{
 "cells": [
  {
   "cell_type": "markdown",
   "id": "9a578f35",
   "metadata": {},
   "source": [
    "# Data collection"
   ]
  },
  {
   "cell_type": "code",
   "execution_count": 1,
   "id": "a2c2bfea",
   "metadata": {},
   "outputs": [],
   "source": [
    "from bs4 import BeautifulSoup as bs\n",
    "import requests"
   ]
  },
  {
   "cell_type": "code",
   "execution_count": 2,
   "id": "677adce3",
   "metadata": {},
   "outputs": [],
   "source": [
    "leagues = ['la-liga', 'ligue-1', 'premier-league', 'serie-a', 'bundesliga']\n",
    "\n",
    "all_teams = []\n",
    "\n",
    "for lg in leagues:\n",
    "    page = requests.get('https://www.sportsmole.co.uk/football/%s/table.html' % lg)\n",
    "    soup = bs(page.text, 'html.parser')\n",
    "    teams = [x.find('a').get('href')[10:-1] for x in soup.findAll('td', class_='teamtd rX')]\n",
    "    all_teams.append(teams[:2])\n",
    "\n",
    "all_teams = [x for y in all_teams for x in y] # flatten the 2d array"
   ]
  },
  {
   "cell_type": "code",
   "execution_count": 3,
   "id": "677ab81b",
   "metadata": {
    "scrolled": false
   },
   "outputs": [
    {
     "name": "stdout",
     "output_type": "stream",
     "text": [
      "Number of teams: 10\n",
      "\n",
      "['barcelona', 'real-madrid', 'psg', 'lens', 'arsenal', 'man-city', 'napoli', 'ac-milan', 'bayern-munich', 'freiburg']\n"
     ]
    }
   ],
   "source": [
    "print('Number of teams: %d' % len(all_teams), all_teams, sep='\\n\\n')"
   ]
  },
  {
   "cell_type": "code",
   "execution_count": 4,
   "id": "217c751e",
   "metadata": {},
   "outputs": [],
   "source": [
    "all_players = []\n",
    "\n",
    "for team in all_teams:\n",
    "    page = requests.get('https://www.sportsmole.co.uk/football/%s/squad.html' % team)\n",
    "    soup = bs(page.text, 'html.parser')\n",
    "    players = [x['href'][8:-1] for x in soup.findAll('a', 'name bold')]\n",
    "    if len(players) > 0:\n",
    "        all_players.append(players)\n",
    "    else:\n",
    "        print('%s not found.' % team)\n",
    "\n",
    "all_players = [x for y in all_players for x in y] # flatten the 2d array"
   ]
  },
  {
   "cell_type": "code",
   "execution_count": null,
   "id": "5edef9cb",
   "metadata": {
    "scrolled": false
   },
   "outputs": [],
   "source": [
    "for player in all_players:\n",
    "    try: \n",
    "        page = requests.get('https://www.sportsmole.co.uk/people/%s' % player)\n",
    "        soup = bs(page.text, 'html.parser')\n",
    "        url = soup.findAll('img',  {'itemprop': 'image'})[0]['src']\n",
    "        name = soup.findAll('h1', {'itemprop': 'name'})[0]\n",
    "        img = requests.get(url)\n",
    "        path = 'players/%s.png' % (name.text)\n",
    "        open(path, 'wb').write(img.content)\n",
    "    except:\n",
    "        print('%s image not found' % player)"
   ]
  },
  {
   "cell_type": "markdown",
   "id": "e1beab6d",
   "metadata": {},
   "source": [
    "# Face recognition"
   ]
  },
  {
   "cell_type": "code",
   "execution_count": 1,
   "id": "c85a4471",
   "metadata": {},
   "outputs": [],
   "source": [
    "import os\n",
    "# import face_recognition\n",
    "\n",
    "from sklearn import neighbors\n",
    "from PIL import Image, ImageDraw"
   ]
  },
  {
   "cell_type": "code",
   "execution_count": null,
   "id": "93971b96",
   "metadata": {},
   "outputs": [],
   "source": [
    "def show_labels(img_path, predictions):\n",
    "\n",
    "    pil_image = Image.open(img_path).convert(\"RGB\")\n",
    "    draw = ImageDraw.Draw(pil_image)\n",
    "\n",
    "    for name, (top, right, bottom, left) in predictions:\n",
    "        draw.rectangle(((left, top), (right, bottom)), outline=(0, 255, 0))\n",
    "        name = name.encode(\"UTF-8\")\n",
    "\n",
    "        text_width, text_height = draw.textsize(name)\n",
    "        draw.text((left, bottom - text_height), name, fill=(0, 255, 0))\n",
    "\n",
    "    del draw\n",
    "    pil_image.show()\n",
    "    return pil_image"
   ]
  },
  {
   "cell_type": "code",
   "execution_count": null,
   "id": "2c59c064",
   "metadata": {},
   "outputs": [],
   "source": [
    "def train_knn(n_neighbors=5):\n",
    "\n",
    "    files = os.listdir('players')\n",
    "    images = ['players/%s' % s for s in files]\n",
    "    names = []\n",
    "    encodings = []\n",
    "    \n",
    "    for img in images:\n",
    "        face = face_recognition.load_image_file(img)\n",
    "        face_bounding_boxes = face_recognition.face_locations(face)\n",
    "\n",
    "        if len(face_bounding_boxes) == 1:\n",
    "            face_enc = face_recognition.face_encodings(face)[0]\n",
    "            encodings.append(face_enc)\n",
    "            names.append(img[8:-4])\n",
    "        else:\n",
    "            print('%s image is not suitable for training!' % img)\n",
    "\n",
    "    clf = neighbors.KNeighborsClassifier(n_neighbors=n_neighbors, weights='distance')\n",
    "    clf.fit(encodings, names)\n",
    "\n",
    "    return clf"
   ]
  },
  {
   "cell_type": "code",
   "execution_count": null,
   "id": "3db18300",
   "metadata": {
    "scrolled": true
   },
   "outputs": [],
   "source": [
    "def predict(clf, test_image_path, threshold=0.5):\n",
    "\n",
    "    test_image = face_recognition.load_image_file(test_image_path)\n",
    "    face_locations = face_recognition.face_locations(test_image)\n",
    "    face_encodings = face_recognition.face_encodings(test_image, face_locations)\n",
    "\n",
    "    preds = []\n",
    "\n",
    "    for x in face_encodings:\n",
    "        closest = clf.kneighbors([x], n_neighbors=1)\n",
    "        if closest[0][0][0] <= threshold:\n",
    "            preds.append(clf.predict([x])[0])\n",
    "        else:\n",
    "            preds.append('')\n",
    "\n",
    "    return zip(preds, face_locations)"
   ]
  },
  {
   "cell_type": "code",
   "execution_count": null,
   "id": "ff8eb73f",
   "metadata": {
    "scrolled": true
   },
   "outputs": [],
   "source": [
    "clf = train_knn(n_neighbors=1)"
   ]
  },
  {
   "cell_type": "code",
   "execution_count": null,
   "id": "26061815",
   "metadata": {
    "scrolled": true
   },
   "outputs": [],
   "source": [
    "for test_file in os.listdir('test'):\n",
    "    test = 'test/' + test_file\n",
    "    preds = predict(clf, test, threshold=0.6)\n",
    "    show_labels(test, preds)"
   ]
  },
  {
   "cell_type": "code",
   "execution_count": null,
   "id": "1faac5e2",
   "metadata": {},
   "outputs": [],
   "source": []
  },
  {
   "cell_type": "code",
   "execution_count": null,
   "id": "803eff61",
   "metadata": {},
   "outputs": [],
   "source": []
  }
 ],
 "metadata": {
  "kernelspec": {
   "display_name": "Python 3 (ipykernel)",
   "language": "python",
   "name": "python3"
  },
  "language_info": {
   "codemirror_mode": {
    "name": "ipython",
    "version": 3
   },
   "file_extension": ".py",
   "mimetype": "text/x-python",
   "name": "python",
   "nbconvert_exporter": "python",
   "pygments_lexer": "ipython3",
   "version": "3.9.13"
  }
 },
 "nbformat": 4,
 "nbformat_minor": 5
}
